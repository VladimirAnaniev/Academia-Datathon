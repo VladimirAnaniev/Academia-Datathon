{
 "cells": [
  {
   "cell_type": "code",
   "execution_count": 1,
   "metadata": {},
   "outputs": [],
   "source": [
    "import pandas as pd"
   ]
  },
  {
   "cell_type": "code",
   "execution_count": 2,
   "metadata": {},
   "outputs": [],
   "source": [
    "data = pd.read_csv('./data/coins_filtered.csv')\n",
    "coins = pd.read_csv('SELECTED_COINS.csv')"
   ]
  },
  {
   "cell_type": "code",
   "execution_count": 3,
   "metadata": {},
   "outputs": [
    {
     "data": {
      "text/html": [
       "<div>\n",
       "<table border=\"1\" class=\"dataframe\">\n",
       "  <thead>\n",
       "    <tr style=\"text-align: right;\">\n",
       "      <th></th>\n",
       "      <th>time</th>\n",
       "      <th>refID_coin</th>\n",
       "      <th>price</th>\n",
       "      <th>marketCap</th>\n",
       "      <th>CirculatingSupply</th>\n",
       "      <th>Volume24h</th>\n",
       "      <th>Movement1h</th>\n",
       "      <th>Movement24h</th>\n",
       "    </tr>\n",
       "  </thead>\n",
       "  <tbody>\n",
       "    <tr>\n",
       "      <th>0</th>\n",
       "      <td>2018-01-17 11:25:00</td>\n",
       "      <td>1442</td>\n",
       "      <td>10756.000000</td>\n",
       "      <td>180786170372</td>\n",
       "      <td>16807937</td>\n",
       "      <td>17884600000</td>\n",
       "      <td>-1.42</td>\n",
       "      <td>-11.40</td>\n",
       "    </tr>\n",
       "    <tr>\n",
       "      <th>1</th>\n",
       "      <td>2018-01-17 11:25:00</td>\n",
       "      <td>1443</td>\n",
       "      <td>960.930000</td>\n",
       "      <td>93242345727</td>\n",
       "      <td>97033038</td>\n",
       "      <td>7990730000</td>\n",
       "      <td>-2.37</td>\n",
       "      <td>-12.48</td>\n",
       "    </tr>\n",
       "    <tr>\n",
       "      <th>2</th>\n",
       "      <td>2018-01-17 11:25:00</td>\n",
       "      <td>1444</td>\n",
       "      <td>1.130000</td>\n",
       "      <td>43630734374</td>\n",
       "      <td>38739142811</td>\n",
       "      <td>6058320000</td>\n",
       "      <td>-3.03</td>\n",
       "      <td>-18.17</td>\n",
       "    </tr>\n",
       "    <tr>\n",
       "      <th>3</th>\n",
       "      <td>2018-01-17 11:25:00</td>\n",
       "      <td>1445</td>\n",
       "      <td>1744.130000</td>\n",
       "      <td>29504008303</td>\n",
       "      <td>16916175</td>\n",
       "      <td>1544790000</td>\n",
       "      <td>-3.20</td>\n",
       "      <td>-12.15</td>\n",
       "    </tr>\n",
       "    <tr>\n",
       "      <th>4</th>\n",
       "      <td>2018-01-17 11:25:00</td>\n",
       "      <td>1446</td>\n",
       "      <td>0.544258</td>\n",
       "      <td>14111015557</td>\n",
       "      <td>25927070538</td>\n",
       "      <td>1511130000</td>\n",
       "      <td>-2.56</td>\n",
       "      <td>-14.91</td>\n",
       "    </tr>\n",
       "  </tbody>\n",
       "</table>\n",
       "</div>"
      ],
      "text/plain": [
       "                  time  refID_coin         price     marketCap  \\\n",
       "0  2018-01-17 11:25:00        1442  10756.000000  180786170372   \n",
       "1  2018-01-17 11:25:00        1443    960.930000   93242345727   \n",
       "2  2018-01-17 11:25:00        1444      1.130000   43630734374   \n",
       "3  2018-01-17 11:25:00        1445   1744.130000   29504008303   \n",
       "4  2018-01-17 11:25:00        1446      0.544258   14111015557   \n",
       "\n",
       "   CirculatingSupply    Volume24h  Movement1h  Movement24h  \n",
       "0           16807937  17884600000       -1.42       -11.40  \n",
       "1           97033038   7990730000       -2.37       -12.48  \n",
       "2        38739142811   6058320000       -3.03       -18.17  \n",
       "3           16916175   1544790000       -3.20       -12.15  \n",
       "4        25927070538   1511130000       -2.56       -14.91  "
      ]
     },
     "execution_count": 3,
     "metadata": {},
     "output_type": "execute_result"
    }
   ],
   "source": [
    "data.head()"
   ]
  },
  {
   "cell_type": "code",
   "execution_count": 4,
   "metadata": {},
   "outputs": [
    {
     "data": {
      "text/plain": [
       "(20,)"
      ]
     },
     "execution_count": 4,
     "metadata": {},
     "output_type": "execute_result"
    }
   ],
   "source": [
    "coins = coins.values.reshape((20,))\n",
    "coins.shape"
   ]
  },
  {
   "cell_type": "code",
   "execution_count": 5,
   "metadata": {},
   "outputs": [],
   "source": [
    "NUM_FOR_TEST = 5000"
   ]
  },
  {
   "cell_type": "code",
   "execution_count": 6,
   "metadata": {},
   "outputs": [
    {
     "name": "stdout",
     "output_type": "stream",
     "text": [
      "(15198, 8)\n",
      "(15198, 8)\n",
      "(15198, 8)\n",
      "(15198, 8)\n",
      "(15198, 8)\n",
      "(0, 8)\n",
      "(15198, 8)\n",
      "(15198, 8)\n",
      "(15198, 8)\n",
      "(15198, 8)\n",
      "(15198, 8)\n",
      "(15198, 8)\n",
      "(15198, 8)\n",
      "(15198, 8)\n",
      "(15198, 8)\n",
      "(15198, 8)\n",
      "(15198, 8)\n",
      "(15198, 8)\n",
      "(15198, 8)\n",
      "(15198, 8)\n"
     ]
    }
   ],
   "source": [
    "for coin in coins:\n",
    "    coin_data = data[ data['refID_coin'] == coin]\n",
    "    coin_data_train = coin_data[:coin_data.shape[0] - NUM_FOR_TEST]\n",
    "    coin_data_test = coin_data[coin_data.shape[0] - NUM_FOR_TEST:]\n",
    "    print(coin_data.shape)\n",
    "    coin_data_train.to_csv('./data/train/' + str(coin)+'.csv', index=False)\n",
    "    coin_data_test.to_csv('./data/test/' + str(coin)+'.csv', index=False)\n",
    "    "
   ]
  }
 ],
 "metadata": {
  "kernelspec": {
   "display_name": "Python 3",
   "language": "python",
   "name": "python3"
  },
  "language_info": {
   "codemirror_mode": {
    "name": "ipython",
    "version": 3
   },
   "file_extension": ".py",
   "mimetype": "text/x-python",
   "name": "python",
   "nbconvert_exporter": "python",
   "pygments_lexer": "ipython3",
   "version": "3.5.2"
  }
 },
 "nbformat": 4,
 "nbformat_minor": 2
}

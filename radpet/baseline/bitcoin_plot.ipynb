{
 "cells": [
  {
   "cell_type": "code",
   "execution_count": 1,
   "metadata": {},
   "outputs": [],
   "source": [
    "import pandas as pd\n",
    "import matplotlib.pyplot as plt"
   ]
  },
  {
   "cell_type": "code",
   "execution_count": 2,
   "metadata": {},
   "outputs": [],
   "source": [
    "y_true = pd.read_csv('../data/train/1442.csv', index_col='time')\n",
    "y_true = y_true[10001:]"
   ]
  },
  {
   "cell_type": "code",
   "execution_count": 3,
   "metadata": {},
   "outputs": [],
   "source": [
    "y_pred = pd.read_csv('./checkpoints/y_pred_val.csv')\n",
    "y_pred.index = y_true.index\n",
    "y_pred['true_price'] = y_true['price']"
   ]
  },
  {
   "cell_type": "code",
   "execution_count": 4,
   "metadata": {},
   "outputs": [
    {
     "data": {
      "text/html": [
       "<div>\n",
       "<table border=\"1\" class=\"dataframe\">\n",
       "  <thead>\n",
       "    <tr style=\"text-align: right;\">\n",
       "      <th></th>\n",
       "      <th>price</th>\n",
       "      <th>true_price</th>\n",
       "    </tr>\n",
       "    <tr>\n",
       "      <th>time</th>\n",
       "      <th></th>\n",
       "      <th></th>\n",
       "    </tr>\n",
       "  </thead>\n",
       "  <tbody>\n",
       "    <tr>\n",
       "      <th>2018-02-26 17:05:00</th>\n",
       "      <td>10228.320133</td>\n",
       "      <td>10256.0</td>\n",
       "    </tr>\n",
       "    <tr>\n",
       "      <th>2018-02-26 17:10:00</th>\n",
       "      <td>10238.263584</td>\n",
       "      <td>10275.7</td>\n",
       "    </tr>\n",
       "    <tr>\n",
       "      <th>2018-02-26 17:15:00</th>\n",
       "      <td>10256.923745</td>\n",
       "      <td>10270.7</td>\n",
       "    </tr>\n",
       "    <tr>\n",
       "      <th>2018-02-26 17:20:00</th>\n",
       "      <td>10252.188022</td>\n",
       "      <td>10256.3</td>\n",
       "    </tr>\n",
       "    <tr>\n",
       "      <th>2018-02-26 17:25:00</th>\n",
       "      <td>10238.545526</td>\n",
       "      <td>10269.7</td>\n",
       "    </tr>\n",
       "    <tr>\n",
       "      <th>2018-02-26 17:30:00</th>\n",
       "      <td>10251.238649</td>\n",
       "      <td>10263.4</td>\n",
       "    </tr>\n",
       "    <tr>\n",
       "      <th>2018-02-26 17:35:00</th>\n",
       "      <td>10245.271348</td>\n",
       "      <td>10277.5</td>\n",
       "    </tr>\n",
       "    <tr>\n",
       "      <th>2018-02-26 17:40:00</th>\n",
       "      <td>10258.626120</td>\n",
       "      <td>10304.2</td>\n",
       "    </tr>\n",
       "    <tr>\n",
       "      <th>2018-02-26 17:45:00</th>\n",
       "      <td>10283.905455</td>\n",
       "      <td>10305.5</td>\n",
       "    </tr>\n",
       "    <tr>\n",
       "      <th>2018-02-26 17:50:00</th>\n",
       "      <td>10285.136140</td>\n",
       "      <td>10321.5</td>\n",
       "    </tr>\n",
       "  </tbody>\n",
       "</table>\n",
       "</div>"
      ],
      "text/plain": [
       "                            price  true_price\n",
       "time                                         \n",
       "2018-02-26 17:05:00  10228.320133     10256.0\n",
       "2018-02-26 17:10:00  10238.263584     10275.7\n",
       "2018-02-26 17:15:00  10256.923745     10270.7\n",
       "2018-02-26 17:20:00  10252.188022     10256.3\n",
       "2018-02-26 17:25:00  10238.545526     10269.7\n",
       "2018-02-26 17:30:00  10251.238649     10263.4\n",
       "2018-02-26 17:35:00  10245.271348     10277.5\n",
       "2018-02-26 17:40:00  10258.626120     10304.2\n",
       "2018-02-26 17:45:00  10283.905455     10305.5\n",
       "2018-02-26 17:50:00  10285.136140     10321.5"
      ]
     },
     "execution_count": 4,
     "metadata": {},
     "output_type": "execute_result"
    }
   ],
   "source": [
    "y_pred.head(10)"
   ]
  },
  {
   "cell_type": "code",
   "execution_count": 5,
   "metadata": {},
   "outputs": [
    {
     "data": {
      "text/plain": [
       "0"
      ]
     },
     "execution_count": 5,
     "metadata": {},
     "output_type": "execute_result"
    }
   ],
   "source": [
    "(y_pred['price'].values == y_true['price'].values).sum()"
   ]
  },
  {
   "cell_type": "code",
   "execution_count": 6,
   "metadata": {},
   "outputs": [
    {
     "data": {
      "text/plain": [
       "<matplotlib.figure.Figure at 0x7f8dab694748>"
      ]
     },
     "metadata": {},
     "output_type": "display_data"
    },
    {
     "data": {
      "image/png": "[encoded data removed]",
      "text/plain": [
       "<matplotlib.figure.Figure at 0x7f8dab694c18>"
      ]
     },
     "metadata": {},
     "output_type": "display_data"
    }
   ],
   "source": [
    "plt.figure(figsize=(10,10));\n",
    "y_pred.plot()\n",
    "plt.show()"
   ]
  },
  {
   "cell_type": "code",
   "execution_count": null,
   "metadata": {},
   "outputs": [],
   "source": []
  }
 ],
 "metadata": {
  "kernelspec": {
   "display_name": "Python 3",
   "language": "python",
   "name": "python3"
  },
  "language_info": {
   "codemirror_mode": {
    "name": "ipython",
    "version": 3
   },
   "file_extension": ".py",
   "mimetype": "text/x-python",
   "name": "python",
   "nbconvert_exporter": "python",
   "pygments_lexer": "ipython3",
   "version": "3.5.2"
  }
 },
 "nbformat": 4,
 "nbformat_minor": 2
}

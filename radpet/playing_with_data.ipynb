{
 "cells": [
  {
   "cell_type": "code",
   "execution_count": 1,
   "metadata": {},
   "outputs": [],
   "source": [
    "import pandas as pd"
   ]
  },
  {
   "cell_type": "code",
   "execution_count": 2,
   "metadata": {},
   "outputs": [],
   "source": [
    "data = pd.read_csv('./data/datathon.csv')"
   ]
  },
  {
   "cell_type": "code",
   "execution_count": 3,
   "metadata": {},
   "outputs": [
    {
     "data": {
      "text/plain": [
       "(23086419, 9)"
      ]
     },
     "execution_count": 3,
     "metadata": {},
     "output_type": "execute_result"
    }
   ],
   "source": [
    "data.shape"
   ]
  },
  {
   "cell_type": "code",
   "execution_count": 4,
   "metadata": {},
   "outputs": [
    {
     "data": {
      "text/html": [
       "<div>\n",
       "<table border=\"1\" class=\"dataframe\">\n",
       "  <thead>\n",
       "    <tr style=\"text-align: right;\">\n",
       "      <th></th>\n",
       "      <th>Unnamed: 0</th>\n",
       "      <th>time</th>\n",
       "      <th>refID_coin</th>\n",
       "      <th>price</th>\n",
       "      <th>marketCap</th>\n",
       "      <th>CirculatingSupply</th>\n",
       "      <th>Volume24h</th>\n",
       "      <th>Movement1h</th>\n",
       "      <th>Movement24h</th>\n",
       "    </tr>\n",
       "  </thead>\n",
       "  <tbody>\n",
       "    <tr>\n",
       "      <th>0</th>\n",
       "      <td>0</td>\n",
       "      <td>2018-01-17 11:25:00</td>\n",
       "      <td>1442</td>\n",
       "      <td>10756.000000</td>\n",
       "      <td>180786170372</td>\n",
       "      <td>16807937</td>\n",
       "      <td>17884600000</td>\n",
       "      <td>-1.42</td>\n",
       "      <td>-11.40</td>\n",
       "    </tr>\n",
       "    <tr>\n",
       "      <th>1</th>\n",
       "      <td>1</td>\n",
       "      <td>2018-01-17 11:25:00</td>\n",
       "      <td>1443</td>\n",
       "      <td>960.930000</td>\n",
       "      <td>93242345727</td>\n",
       "      <td>97033038</td>\n",
       "      <td>7990730000</td>\n",
       "      <td>-2.37</td>\n",
       "      <td>-12.48</td>\n",
       "    </tr>\n",
       "    <tr>\n",
       "      <th>2</th>\n",
       "      <td>2</td>\n",
       "      <td>2018-01-17 11:25:00</td>\n",
       "      <td>1444</td>\n",
       "      <td>1.130000</td>\n",
       "      <td>43630734374</td>\n",
       "      <td>38739142811</td>\n",
       "      <td>6058320000</td>\n",
       "      <td>-3.03</td>\n",
       "      <td>-18.17</td>\n",
       "    </tr>\n",
       "    <tr>\n",
       "      <th>3</th>\n",
       "      <td>3</td>\n",
       "      <td>2018-01-17 11:25:00</td>\n",
       "      <td>1445</td>\n",
       "      <td>1744.130000</td>\n",
       "      <td>29504008303</td>\n",
       "      <td>16916175</td>\n",
       "      <td>1544790000</td>\n",
       "      <td>-3.20</td>\n",
       "      <td>-12.15</td>\n",
       "    </tr>\n",
       "    <tr>\n",
       "      <th>4</th>\n",
       "      <td>4</td>\n",
       "      <td>2018-01-17 11:25:00</td>\n",
       "      <td>1446</td>\n",
       "      <td>0.544258</td>\n",
       "      <td>14111015557</td>\n",
       "      <td>25927070538</td>\n",
       "      <td>1511130000</td>\n",
       "      <td>-2.56</td>\n",
       "      <td>-14.91</td>\n",
       "    </tr>\n",
       "  </tbody>\n",
       "</table>\n",
       "</div>"
      ],
      "text/plain": [
       "   Unnamed: 0                 time  refID_coin         price     marketCap  \\\n",
       "0           0  2018-01-17 11:25:00        1442  10756.000000  180786170372   \n",
       "1           1  2018-01-17 11:25:00        1443    960.930000   93242345727   \n",
       "2           2  2018-01-17 11:25:00        1444      1.130000   43630734374   \n",
       "3           3  2018-01-17 11:25:00        1445   1744.130000   29504008303   \n",
       "4           4  2018-01-17 11:25:00        1446      0.544258   14111015557   \n",
       "\n",
       "   CirculatingSupply    Volume24h  Movement1h  Movement24h  \n",
       "0           16807937  17884600000       -1.42       -11.40  \n",
       "1           97033038   7990730000       -2.37       -12.48  \n",
       "2        38739142811   6058320000       -3.03       -18.17  \n",
       "3           16916175   1544790000       -3.20       -12.15  \n",
       "4        25927070538   1511130000       -2.56       -14.91  "
      ]
     },
     "execution_count": 4,
     "metadata": {},
     "output_type": "execute_result"
    }
   ],
   "source": [
    "data.head()"
   ]
  },
  {
   "cell_type": "code",
   "execution_count": 5,
   "metadata": {},
   "outputs": [
    {
     "data": {
      "text/plain": [
       "Unnamed: 0           0\n",
       "time                 0\n",
       "refID_coin           0\n",
       "price                0\n",
       "marketCap            0\n",
       "CirculatingSupply    0\n",
       "Volume24h            0\n",
       "Movement1h           0\n",
       "Movement24h          0\n",
       "dtype: int64"
      ]
     },
     "execution_count": 5,
     "metadata": {},
     "output_type": "execute_result"
    }
   ],
   "source": [
    "data.isnull().sum()"
   ]
  },
  {
   "cell_type": "code",
   "execution_count": 7,
   "metadata": {},
   "outputs": [
    {
     "data": {
      "text/plain": [
       "1442    15198\n",
       "1503    15198\n",
       "1514    15198\n",
       "1513    15198\n",
       "1511    15198\n",
       "2599    15198\n",
       "1509    15198\n",
       "1508    15198\n",
       "1507    15198\n",
       "1506    15198\n",
       "1505    15198\n",
       "1501    15198\n",
       "1488    15198\n",
       "1499    15198\n",
       "1498    15198\n",
       "1497    15198\n",
       "1496    15198\n",
       "1495    15198\n",
       "1494    15198\n",
       "1493    15198\n",
       "1491    15198\n",
       "1490    15198\n",
       "1515    15198\n",
       "1517    15198\n",
       "1520    15198\n",
       "1521    15198\n",
       "1641    15198\n",
       "2884    15198\n",
       "1609    15198\n",
       "1569    15198\n",
       "        ...  \n",
       "3106     1453\n",
       "3108     1436\n",
       "3110     1273\n",
       "2874     1219\n",
       "2519     1219\n",
       "2533     1219\n",
       "2484     1219\n",
       "3111     1059\n",
       "3112      556\n",
       "3113      435\n",
       "3114      344\n",
       "3115      249\n",
       "3097      154\n",
       "3118      147\n",
       "3117      147\n",
       "3116      147\n",
       "3119      147\n",
       "3107       84\n",
       "3122       74\n",
       "3124       74\n",
       "3121       74\n",
       "3120       74\n",
       "3123       74\n",
       "3125       58\n",
       "3127       58\n",
       "3128       58\n",
       "3126       58\n",
       "3071       44\n",
       "3055       36\n",
       "3109       13\n",
       "Name: refID_coin, dtype: int64"
      ]
     },
     "execution_count": 7,
     "metadata": {},
     "output_type": "execute_result"
    }
   ],
   "source": [
    "data['refID_coin'].value_counts()"
   ]
  },
  {
   "cell_type": "code",
   "execution_count": 12,
   "metadata": {},
   "outputs": [
    {
     "data": {
      "text/html": [
       "<div>\n",
       "<table border=\"1\" class=\"dataframe\">\n",
       "  <thead>\n",
       "    <tr style=\"text-align: right;\">\n",
       "      <th></th>\n",
       "      <th>ID</th>\n",
       "    </tr>\n",
       "  </thead>\n",
       "  <tbody>\n",
       "    <tr>\n",
       "      <th>0</th>\n",
       "      <td>1442</td>\n",
       "    </tr>\n",
       "    <tr>\n",
       "      <th>1</th>\n",
       "      <td>1445</td>\n",
       "    </tr>\n",
       "    <tr>\n",
       "      <th>2</th>\n",
       "      <td>1456</td>\n",
       "    </tr>\n",
       "    <tr>\n",
       "      <th>3</th>\n",
       "      <td>1446</td>\n",
       "    </tr>\n",
       "    <tr>\n",
       "      <th>4</th>\n",
       "      <td>1453</td>\n",
       "    </tr>\n",
       "    <tr>\n",
       "      <th>5</th>\n",
       "      <td>1447</td>\n",
       "    </tr>\n",
       "    <tr>\n",
       "      <th>6</th>\n",
       "      <td>1452</td>\n",
       "    </tr>\n",
       "    <tr>\n",
       "      <th>7</th>\n",
       "      <td>1443</td>\n",
       "    </tr>\n",
       "    <tr>\n",
       "      <th>8</th>\n",
       "      <td>1457</td>\n",
       "    </tr>\n",
       "    <tr>\n",
       "      <th>9</th>\n",
       "      <td>1451</td>\n",
       "    </tr>\n",
       "    <tr>\n",
       "      <th>10</th>\n",
       "      <td>1460</td>\n",
       "    </tr>\n",
       "    <tr>\n",
       "      <th>11</th>\n",
       "      <td>1448</td>\n",
       "    </tr>\n",
       "    <tr>\n",
       "      <th>12</th>\n",
       "      <td>1454</td>\n",
       "    </tr>\n",
       "    <tr>\n",
       "      <th>13</th>\n",
       "      <td>1447</td>\n",
       "    </tr>\n",
       "    <tr>\n",
       "      <th>14</th>\n",
       "      <td>1449</td>\n",
       "    </tr>\n",
       "    <tr>\n",
       "      <th>15</th>\n",
       "      <td>1444</td>\n",
       "    </tr>\n",
       "    <tr>\n",
       "      <th>16</th>\n",
       "      <td>1450</td>\n",
       "    </tr>\n",
       "    <tr>\n",
       "      <th>17</th>\n",
       "      <td>1474</td>\n",
       "    </tr>\n",
       "    <tr>\n",
       "      <th>18</th>\n",
       "      <td>1455</td>\n",
       "    </tr>\n",
       "    <tr>\n",
       "      <th>19</th>\n",
       "      <td>1465</td>\n",
       "    </tr>\n",
       "  </tbody>\n",
       "</table>\n",
       "</div>"
      ],
      "text/plain": [
       "      ID\n",
       "0   1442\n",
       "1   1445\n",
       "2   1456\n",
       "3   1446\n",
       "4   1453\n",
       "5   1447\n",
       "6   1452\n",
       "7   1443\n",
       "8   1457\n",
       "9   1451\n",
       "10  1460\n",
       "11  1448\n",
       "12  1454\n",
       "13  1447\n",
       "14  1449\n",
       "15  1444\n",
       "16  1450\n",
       "17  1474\n",
       "18  1455\n",
       "19  1465"
      ]
     },
     "execution_count": 12,
     "metadata": {},
     "output_type": "execute_result"
    }
   ],
   "source": [
    "comp_coins = pd.read_csv('SELECTED_COINS.csv')\n",
    "comp_coins"
   ]
  },
  {
   "cell_type": "code",
   "execution_count": null,
   "metadata": {},
   "outputs": [],
   "source": []
  }
 ],
 "metadata": {
  "kernelspec": {
   "display_name": "Python 3",
   "language": "python",
   "name": "python3"
  },
  "language_info": {
   "codemirror_mode": {
    "name": "ipython",
    "version": 3
   },
   "file_extension": ".py",
   "mimetype": "text/x-python",
   "name": "python",
   "nbconvert_exporter": "python",
   "pygments_lexer": "ipython3",
   "version": "3.5.2"
  }
 },
 "nbformat": 4,
 "nbformat_minor": 2
}

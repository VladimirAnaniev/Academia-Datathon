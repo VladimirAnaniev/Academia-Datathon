{
 "cells": [
  {
   "cell_type": "code",
   "execution_count": 1,
   "metadata": {},
   "outputs": [],
   "source": [
    "import numpy as np\n",
    "import pandas as pd"
   ]
  },
  {
   "cell_type": "code",
   "execution_count": 2,
   "metadata": {},
   "outputs": [],
   "source": [
    "EPS = 1e-10\n",
    "def mape(y_true, y_pred):\n",
    "    return np.mean(np.abs((y_true + EPS - y_pred) / y_true + EPS)) * 100    "
   ]
  },
  {
   "cell_type": "code",
   "execution_count": 3,
   "metadata": {},
   "outputs": [],
   "source": [
    "def ds(y_true, y_pred):\n",
    "    dts = 0\n",
    "\n",
    "    for t in range(1, len(y_true)):\n",
    "        if (y_true[t] - y_true[t-1]) * (y_pred[t] - y_pred[t-1]) > 0:\n",
    "            dts += 1\n",
    "    return 100 / len(y_true) * dts"
   ]
  },
  {
   "cell_type": "code",
   "execution_count": 4,
   "metadata": {},
   "outputs": [],
   "source": [
    "def m(avg_absolute_errors):\n",
    "    return np.sum(avg_absolute_errors) / len(avg_absolute_errors)"
   ]
  },
  {
   "cell_type": "code",
   "execution_count": 6,
   "metadata": {},
   "outputs": [],
   "source": [
    "def r(avg_absolute_errors):\n",
    "    _m = m(avg_absolute_errors)\n",
    "    \n",
    "    def s():\n",
    "        squares = 0\n",
    "       \n",
    "        for i in range(len(avg_absolute_errors)):\n",
    "            squares += np.square(avg_absolute_errors[i] - _m)\n",
    "        \n",
    "        return np.sqrt(squares / (len(avg_absolute_errors) - 1))\n",
    "    \n",
    "    \n",
    "    return s() / _m"
   ]
  },
  {
   "cell_type": "code",
   "execution_count": 7,
   "metadata": {},
   "outputs": [],
   "source": [
    "coins = [1442, 1445, 1456, 1446, 1453, 1447, 1452, 1443, 1457, 1451, 1460, 1448, 1454, 1477, 1449, 1444, 1450, 1474, 1455, 1465]"
   ]
  },
  {
   "cell_type": "code",
   "execution_count": 99,
   "metadata": {},
   "outputs": [],
   "source": [
    "def make_submission(test_periods):\n",
    "    mapes = {\n",
    "        'coinId': [],\n",
    "        1: [],\n",
    "        2: [],\n",
    "        3: [],\n",
    "        4: [],\n",
    "        5: [],\n",
    "    }\n",
    "    dss = {\n",
    "        'coinId': [],\n",
    "        1: [],\n",
    "        2: [],\n",
    "        3: [],\n",
    "        4: [],\n",
    "        5: [],\n",
    "    }\n",
    "    \n",
    "    for coin in coins:\n",
    "#         print(coin)\n",
    "        y_true = pd.read_csv('../radpet/data/subm_int/'+str(coin)+'.csv', index_col='time')\n",
    "        y_true = y_true[1:]\n",
    "        y_pred = pd.read_csv('../radpet/data/subm_int/only_price_on_full/'+str(coin)+'.csv')\n",
    "        y_pred.index = y_true.index\n",
    "        y_pred['true_price'] = y_true['price']\n",
    "        \n",
    "        mapes['coinId'].append(coin)\n",
    "        dss['coinId'].append(coin)\n",
    "        \n",
    "        i = 1\n",
    "        for start, end in test_periods:\n",
    "#             print(start,end)\n",
    "            prices = y_pred.loc[(y_pred.index >= start) & (y_pred.index < end)]\n",
    "            pred = prices.price\n",
    "            pred.to_csv('subm/'+str(coin)+\"_\"+str(i)+\".csv\", index=False, header=False)\n",
    "            \n",
    "            mapes[i].append(mape(y_true=prices.true_price, y_pred=prices.price))\n",
    "            dss[i].append(ds(y_true=prices.true_price, y_pred=prices.price))\n",
    "            \n",
    "            i += 1\n",
    "            \n",
    "    mapes = pd.DataFrame(mapes)\n",
    "    mapes.to_csv('subm/metrics_MAPE.csv', index=False)\n",
    "    \n",
    "    \n",
    "    dss = pd.DataFrame(dss)\n",
    "    dss.to_csv('subm/metrics_DS.csv', index=False)"
   ]
  },
  {
   "cell_type": "code",
   "execution_count": 100,
   "metadata": {},
   "outputs": [],
   "source": [
    "make_submission([['2018-02-01 00:00:00','2018-02-02 00:05:00'], ['2018-02-01 00:00:00','2018-02-02 00:05:00'], ['2018-02-01 00:00:00','2018-02-02 00:05:00'], ['2018-02-01 00:00:00','2018-02-02 00:05:00'], ['2018-02-01 00:00:00','2018-02-02 00:05:00']])"
   ]
  },
  {
   "cell_type": "code",
   "execution_count": null,
   "metadata": {},
   "outputs": [],
   "source": []
  },
  {
   "cell_type": "code",
   "execution_count": null,
   "metadata": {},
   "outputs": [],
   "source": []
  }
 ],
 "metadata": {
  "kernelspec": {
   "display_name": "Python 3",
   "language": "python",
   "name": "python3"
  },
  "language_info": {
   "codemirror_mode": {
    "name": "ipython",
    "version": 3
   },
   "file_extension": ".py",
   "mimetype": "text/x-python",
   "name": "python",
   "nbconvert_exporter": "python",
   "pygments_lexer": "ipython3",
   "version": "3.6.4"
  }
 },
 "nbformat": 4,
 "nbformat_minor": 2
}

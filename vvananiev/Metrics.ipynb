{
 "cells": [
  {
   "cell_type": "code",
   "execution_count": 2,
   "metadata": {},
   "outputs": [],
   "source": [
    "import numpy as np\n",
    "import pandas as pd"
   ]
  },
  {
   "cell_type": "code",
   "execution_count": 3,
   "metadata": {},
   "outputs": [],
   "source": [
    "EPS = 1e-10\n",
    "def mape(y_true, y_pred):\n",
    "    return np.mean(np.abs((y_true + EPS - y_pred) / y_true + EPS)) * 100    "
   ]
  },
  {
   "cell_type": "code",
   "execution_count": 24,
   "metadata": {},
   "outputs": [],
   "source": [
    "def ds(y_true, y_pred):\n",
    "    dts = 0\n",
    "\n",
    "    for t in range(1, len(y_true)):\n",
    "        if (y_true[t] - y_true[t-1]) * (y_pred[t] - y_pred[t-1]) > 0:\n",
    "            dts += 1\n",
    "    return 100 / len(y_true) * dts"
   ]
  },
  {
   "cell_type": "code",
   "execution_count": 5,
   "metadata": {},
   "outputs": [],
   "source": [
    "def m(avg_absolute_errors):\n",
    "    return np.sum(avg_absolute_errors) / len(avg_absolute_errors)"
   ]
  },
  {
   "cell_type": "code",
   "execution_count": 6,
   "metadata": {},
   "outputs": [],
   "source": [
    "def r(avg_absolute_errors):\n",
    "    m = m(avg_absolute_errors)\n",
    "    \n",
    "    def s():\n",
    "        squares = 0\n",
    "       \n",
    "        for i in range(len(avg_absolute_errors)):\n",
    "            squares += np.square(avg_absolute_errors[i] - m)\n",
    "        \n",
    "        return np.sqrt(squares / (len(avg_absolute_errors) - 1))\n",
    "    \n",
    "    \n",
    "    return s() / m"
   ]
  },
  {
   "cell_type": "code",
   "execution_count": 7,
   "metadata": {},
   "outputs": [],
   "source": [
    "coins = [1442, 1445, 1456, 1446, 1453, 1447, 1452, 1443, 1457, 1451, 1460, 1448, 1454, 1477, 1449, 1444, 1450, 1474, 1455, 1465]"
   ]
  },
  {
   "cell_type": "code",
   "execution_count": 38,
   "metadata": {},
   "outputs": [
    {
     "name": "stdout",
     "output_type": "stream",
     "text": [
      "***** 1442 *****\n",
      "MAPE 0.474714906260844\n",
      "DS 60.834375205632696\n",
      "***** 1445 *****\n",
      "MAPE 0.37009636558715014\n",
      "DS 53.168388497729815\n",
      "***** 1456 *****\n",
      "MAPE 1.118910383256285\n",
      "DS 49.03599394617359\n",
      "***** 1446 *****\n",
      "MAPE 0.6956327365917767\n",
      "DS 48.4240310587616\n",
      "***** 1453 *****\n",
      "MAPE 0.3673499151771934\n",
      "DS 51.7273146015661\n",
      "***** 1447 *****\n",
      "MAPE 0.651135332752779\n",
      "DS 46.825031256168984\n",
      "***** 1452 *****\n",
      "MAPE 1.182377837621631\n",
      "DS 40.304007369875634\n",
      "***** 1443 *****\n",
      "MAPE 0.2688347018960336\n",
      "DS 60.62380733039416\n",
      "***** 1457 *****\n",
      "MAPE 1.771737919488416\n",
      "DS 51.48384549582155\n",
      "***** 1451 *****\n",
      "MAPE 0.5209158252064898\n",
      "DS 12.995986049878265\n",
      "***** 1460 *****\n",
      "MAPE 0.46388007870597003\n",
      "DS 41.48187142199119\n",
      "***** 1448 *****\n",
      "MAPE 0.2861208180475922\n",
      "DS 56.603276962558404\n",
      "***** 1454 *****\n",
      "MAPE 0.4821336512576386\n",
      "DS 53.530302033296046\n",
      "***** 1477 *****\n",
      "MAPE 1.3375092107834388\n",
      "DS 41.60031585181286\n",
      "***** 1449 *****\n",
      "MAPE 0.5160657286878055\n",
      "DS 53.95801802987432\n",
      "***** 1444 *****\n",
      "MAPE 0.41367874100774127\n",
      "DS 33.28946502599197\n",
      "***** 1450 *****\n",
      "MAPE 0.38807357748744564\n",
      "DS 53.069684806211754\n",
      "***** 1474 *****\n",
      "MAPE 0.3125754580606869\n",
      "DS 14.943738895834706\n",
      "***** 1455 *****\n",
      "MAPE 1.1449424116226983\n",
      "DS 50.52970981114694\n",
      "***** 1465 *****\n",
      "MAPE 0.3346738225867745\n",
      "DS 51.43120352701191\n"
     ]
    }
   ],
   "source": [
    "mapes = []\n",
    "dss = []\n",
    "\n",
    "for coin in coins:\n",
    "    print(\"*****\", coin, \"*****\")\n",
    "    prediction = pd.read_csv('../radpet/data/subm_int/only_price/'+str(coin)+'.csv').price.values\n",
    "    original = pd.read_csv('../radpet/data/subm_int/'+str(coin)+'.csv')\n",
    "    original = original['price'].values[1:]\n",
    "    print(\"MAPE\", mape(original, prediction))\n",
    "    print(\"DS\", ds(original, prediction))\n",
    "    \n",
    "    mapes.append(mape(original, prediction))\n",
    "    dss.append(ds(original, prediction))"
   ]
  },
  {
   "cell_type": "code",
   "execution_count": 39,
   "metadata": {},
   "outputs": [
    {
     "name": "stdout",
     "output_type": "stream",
     "text": [
      "0.6550679711043195\n",
      "46.29301835888662\n"
     ]
    }
   ],
   "source": [
    "print(np.mean(mapes))\n",
    "print(np.mean(dss))"
   ]
  },
  {
   "cell_type": "code",
   "execution_count": 47,
   "metadata": {},
   "outputs": [
    {
     "name": "stdout",
     "output_type": "stream",
     "text": [
      "***** 1442 BTC *****\n",
      "MAPE 3.5564094655532528\n",
      "DS 53.18882593227039\n",
      "***** 1445 BCH *****\n",
      "MAPE 3.4428826988052696\n",
      "DS 51.159573066280146\n",
      "***** 1456 BTG *****\n",
      "MAPE 5.748949567273849\n",
      "DS 50.57978653314007\n",
      "***** 1446 ADA *****\n",
      "MAPE 5.886380489001862\n",
      "DS 50.30965871656345\n",
      "***** 1453 DASH *****\n",
      "MAPE 3.5477174308233397\n",
      "DS 54.809592831730136\n",
      "***** 1447 XEM *****\n",
      "MAPE 6.932961816123825\n",
      "DS 46.89682435103439\n",
      "***** 1452 EOS *****\n",
      "MAPE 9.366611296579649\n",
      "DS 42.18605876927131\n",
      "***** 1443 ETH *****\n",
      "MAPE 4.573874216268272\n",
      "DS 60.337330346554225\n",
      "***** 1457 ETC *****\n",
      "MAPE 4.846257356763532\n",
      "DS 44.630386085123206\n",
      "***** 1451 MIOTA *****\n",
      "MAPE 4.7387812947167065\n",
      "DS 26.900777441033075\n",
      "***** 1460 LSK *****\n",
      "MAPE 4.444636149671042\n",
      "DS 48.43852945052049\n",
      "***** 1448 LTC *****\n",
      "MAPE 3.6434400459595633\n",
      "DS 51.33087363288971\n",
      "***** 1454 XMR *****\n",
      "MAPE 5.33731769008575\n",
      "DS 54.82935828172355\n",
      "***** 1477 DOGE *****\n",
      "MAPE 3.8200963359865607\n",
      "DS 52.95164053234945\n",
      "***** 1449 NEO *****\n",
      "MAPE 6.21936702750838\n",
      "DS 52.61562788246146\n",
      "***** 1444 XRP *****\n",
      "MAPE 5.450062877141533\n",
      "DS 35.28132823823956\n",
      "***** 1450 XLM *****\n",
      "MAPE 7.156002061450445\n",
      "DS 52.79351693240216\n",
      "***** 1474 USDT *****\n",
      "MAPE 0.44913063997450137\n",
      "DS 28.580840690473053\n",
      "***** 1455 TRX *****\n",
      "MAPE 8.438508904311945\n",
      "DS 52.04901831598366\n",
      "***** 1465 ZEC *****\n",
      "MAPE 5.100991794671689\n",
      "DS 47.054947950981685\n"
     ]
    }
   ],
   "source": [
    "mapes = []\n",
    "dss = []\n",
    "\n",
    "\n",
    "predictions = pd.read_csv('../vvananiev/predictions/all_coins.csv')\n",
    "coin_names = pd.read_csv('./data/CSVData_coin.csv')\n",
    "# print(coin_names)\n",
    "\n",
    "for coin in coins:\n",
    "    name = coin_names[coin_names['Id'].isin([str(coin)])].iloc[0].Tag\n",
    "    print(\"*****\", coin, name, \"*****\")\n",
    "    original = pd.read_csv('../radpet/data/subm_int/'+str(coin)+'.csv')\n",
    "    original = original['price'].values[20:]\n",
    "    \n",
    "    prediction = predictions[name].values\n",
    "    print(\"MAPE\", mape(original, prediction))\n",
    "    print(\"DS\", ds(original, prediction))\n",
    "#     print(\"M\", m())\n",
    "    \n",
    "    mapes.append(mape(original, prediction))\n",
    "    dss.append(ds(original, prediction))"
   ]
  },
  {
   "cell_type": "code",
   "execution_count": 48,
   "metadata": {},
   "outputs": [
    {
     "name": "stdout",
     "output_type": "stream",
     "text": [
      "5.135018957933548\n",
      "47.84622479905126\n"
     ]
    }
   ],
   "source": [
    "print(np.mean(mapes))\n",
    "print(np.mean(dss))"
   ]
  },
  {
   "cell_type": "code",
   "execution_count": null,
   "metadata": {},
   "outputs": [],
   "source": []
  }
 ],
 "metadata": {
  "kernelspec": {
   "display_name": "Python 3",
   "language": "python",
   "name": "python3"
  },
  "language_info": {
   "codemirror_mode": {
    "name": "ipython",
    "version": 3
   },
   "file_extension": ".py",
   "mimetype": "text/x-python",
   "name": "python",
   "nbconvert_exporter": "python",
   "pygments_lexer": "ipython3",
   "version": "3.6.4"
  }
 },
 "nbformat": 4,
 "nbformat_minor": 2
}
